{
 "cells": [
  {
   "cell_type": "markdown",
   "metadata": {},
   "source": [
    "### Prepare Workspace"
   ]
  },
  {
   "cell_type": "code",
   "execution_count": 2,
   "metadata": {},
   "outputs": [],
   "source": [
    "import azureml.core\n",
    "from azureml.core import Workspace\n",
    "from azureml.core import Experiment\n",
    "from azureml.core.compute import AmlCompute\n",
    "from azureml.core.compute import ComputeTarget\n",
    "import os\n",
    "\n",
    "from azureml.train.estimator import Estimator\n",
    "from azureml.train.hyperdrive import RandomParameterSampling, BanditPolicy, HyperDriveRunConfig, PrimaryMetricGoal\n",
    "from azureml.train.hyperdrive import choice, uniform\n",
    "from azureml.widgets import RunDetails"
   ]
  },
  {
   "cell_type": "markdown",
   "metadata": {},
   "source": [
    "### Prepare AML Workspace"
   ]
  },
  {
   "cell_type": "code",
   "execution_count": 3,
   "metadata": {},
   "outputs": [
    {
     "name": "stdout",
     "output_type": "stream",
     "text": [
      "Found the config file in: C:\\Users\\makayser\\Desktop\\git\\mxk_retinanet\\notebook\\aml_config\\config.json\n",
      "mak-ml\twesteurope\tmakshared\twesteurope\n",
      "found compute target. just use it. gpucluster\n",
      "AzureBlob makml9496683038 azureml-blobstore-43aa3424-3674-489b-808b-1e49daacf13c\n"
     ]
    }
   ],
   "source": [
    "# load workspace configuration from the config.json file in the current folder.\n",
    "ws = Workspace.from_config()\n",
    "print(ws.name, ws.location, ws.resource_group, ws.location, sep = '\\t')\n",
    "experiment_name = 'mxk'\n",
    "script_folder = './'\n",
    "exp = Experiment(workspace=ws, name=experiment_name)\n",
    "\n",
    "\n",
    "vm_size = \"STANDARD_NC6\"\n",
    "\n",
    "compute_target = ws.compute_targets[compute_name]\n",
    "if compute_target and type(compute_target) is AmlCompute:\n",
    "    print('found compute target. just use it. ' + compute_name)\n",
    "\n",
    "ds = ws.get_default_datastore()\n",
    "print(ds.datastore_type, ds.account_name, ds.container_name)"
   ]
  },
  {
   "cell_type": "code",
   "execution_count": 4,
   "metadata": {},
   "outputs": [],
   "source": [
    "# ds.upload(src_dir='./bin', target_path='mxk-train', overwrite=True, show_progress=True)"
   ]
  },
  {
   "cell_type": "markdown",
   "metadata": {
    "colab_type": "text",
    "id": "v7gwRHFSDwHI"
   },
   "source": [
    "### Prepare Training"
   ]
  },
  {
   "cell_type": "code",
   "execution_count": 4,
   "metadata": {},
   "outputs": [],
   "source": [
    "os.chdir('../code')"
   ]
  },
  {
   "cell_type": "code",
   "execution_count": 5,
   "metadata": {},
   "outputs": [],
   "source": [
    "%load_ext autoreload\n",
    "%autoreload 2"
   ]
  },
  {
   "cell_type": "code",
   "execution_count": 6,
   "metadata": {},
   "outputs": [],
   "source": [
    "script_params = {\n",
    "    '--data-dir': ds.path('mxk').as_mount(),\n",
    "    '--epochs':6, \n",
    "#     '--steps':1800,\n",
    "#     '--fl-gamma':1.5,\n",
    "#     '--fl-alpha':0.25,\n",
    "    '--weights': 'model/resnet50_coco_best_v2.1.0.h5',\n",
    "    '--backbone' : 'resnet50',\n",
    "    '--annotations':'train_set_v2_retina.csv',\n",
    "    '--classes':'classes.csv',\n",
    "    '--val-annotations':'test_set_v2_retina.csv',\n",
    "    '--no-snapshots':''\n",
    "}"
   ]
  },
  {
   "cell_type": "code",
   "execution_count": 7,
   "metadata": {},
   "outputs": [
    {
     "data": {
      "text/plain": [
       "{'--data-dir': $AZUREML_DATAREFERENCE_02093635653c4a179ea671bbac25d0da,\n",
       " '--epochs': 6,\n",
       " '--weights': 'model/resnet50_coco_best_v2.1.0.h5',\n",
       " '--backbone': 'resnet50',\n",
       " '--annotations': 'train_set_v2_retina.csv',\n",
       " '--classes': 'classes.csv',\n",
       " '--val-annotations': 'test_set_v2_retina.csv',\n",
       " '--no-snapshots': ''}"
      ]
     },
     "execution_count": 7,
     "metadata": {},
     "output_type": "execute_result"
    }
   ],
   "source": [
    "script_params"
   ]
  },
  {
   "cell_type": "code",
   "execution_count": 8,
   "metadata": {},
   "outputs": [],
   "source": [
    "est = Estimator(source_directory = script_folder,\n",
    "                compute_target = compute_target,\n",
    "                script_params = script_params,\n",
    "                entry_script = \"train.py\",\n",
    "                pip_packages = [\"tensorflow-gpu==1.12\", \"keras\", \"h5py\", \"progressbar2\", \"opencv-python-headless\"],\n",
    "                conda_packages=['opencv', 'h5py','mesa-libgl-cos6-x86_64', 'pillow'],\n",
    "                use_gpu = True)\n"
   ]
  },
  {
   "cell_type": "code",
   "execution_count": 10,
   "metadata": {},
   "outputs": [],
   "source": [
    "max_total_runs=20\n",
    "max_concurrent_runs=4"
   ]
  },
  {
   "cell_type": "code",
   "execution_count": 11,
   "metadata": {},
   "outputs": [],
   "source": [
    "param_sampling = RandomParameterSampling( {\n",
    "        \"--lr\": uniform(1e-6, 1e-04),\n",
    "        \"--batch-size\": choice(1, 4, 8, 16, 32),\n",
    "        \"--fl-gamma\": choice(0.75, 1, 1.25, 1.5, 1.75, 2, 2.25, 2.5),\n",
    "        \"--fl-alpha\": choice(0.25, 0.5, 0.75, 1)\n",
    "    }\n",
    ")\n",
    "# slack: slack allowed with respect to the best performing training run\n",
    "early_termination_policy = BanditPolicy(slack_factor = 0.15, evaluation_interval=2)#1, delay_evaluation=4) #0.25"
   ]
  },
  {
   "cell_type": "code",
   "execution_count": 12,
   "metadata": {},
   "outputs": [],
   "source": [
    "hdc = HyperDriveRunConfig(estimator=est,\n",
    "                          hyperparameter_sampling=param_sampling, \n",
    "                          policy=early_termination_policy,\n",
    "                          primary_metric_name=\"EAD_Score\", \n",
    "                          primary_metric_goal=PrimaryMetricGoal.MAXIMIZE,\n",
    "                          max_total_runs=max_total_runs,\n",
    "                          max_concurrent_runs=max_concurrent_runs)"
   ]
  },
  {
   "cell_type": "markdown",
   "metadata": {},
   "source": [
    "### Submit Training Run"
   ]
  },
  {
   "cell_type": "code",
   "execution_count": 19,
   "metadata": {},
   "outputs": [],
   "source": [
    "run = exp.submit(config=hdc)"
   ]
  },
  {
   "cell_type": "code",
   "execution_count": 20,
   "metadata": {},
   "outputs": [
    {
     "data": {
      "application/vnd.jupyter.widget-view+json": {
       "model_id": "214c4f0a6ea34b3ab12e60724198cdb9",
       "version_major": 2,
       "version_minor": 0
      },
      "text/plain": [
       "_HyperDriveWidget(widget_settings={'childWidgetDisplay': 'popup', 'send_telemetry': False, 'log_level': 'INFO'…"
      ]
     },
     "metadata": {},
     "output_type": "display_data"
    }
   ],
   "source": [
    "RunDetails(run).show()"
   ]
  },
  {
   "cell_type": "code",
   "execution_count": 21,
   "metadata": {},
   "outputs": [
    {
     "data": {
      "text/html": [
       "<table style=\"width:100%\"><tr><th>Experiment</th><th>Id</th><th>Type</th><th>Status</th><th>Details Page</th><th>Docs Page</th></tr><tr><td>mxk</td><td>mxk_1552252494771</td><td>hyperdrive</td><td>Running</td><td><a href=\"https://mlworkspace.azure.ai/portal/subscriptions/50324bce-875f-4a7b-9d3c-0e33679f5d72/resourceGroups/makshared/providers/Microsoft.MachineLearningServices/workspaces/mak-ml/experiments/mxk/runs/mxk_1552252494771\" target=\"_blank\" rel=\"noopener\">Link to Azure Portal</a></td><td><a href=\"https://docs.microsoft.com/en-us/python/api/overview/azure/ml/intro?view=azure-ml-py\" target=\"_blank\" rel=\"noopener\">Link to Documentation</a></td></tr></table>"
      ],
      "text/plain": [
       "Run(Experiment: mxk,\n",
       "Id: mxk_1552252494771,\n",
       "Type: hyperdrive,\n",
       "Status: Running)"
      ]
     },
     "execution_count": 21,
     "metadata": {},
     "output_type": "execute_result"
    }
   ],
   "source": [
    "run"
   ]
  },
  {
   "cell_type": "code",
   "execution_count": null,
   "metadata": {
    "scrolled": true
   },
   "outputs": [
    {
     "name": "stdout",
     "output_type": "stream",
     "text": [
      "RunId: mxk_1552252494771\n"
     ]
    }
   ],
   "source": [
    "run.wait_for_completion(show_output=True)"
   ]
  },
  {
   "cell_type": "markdown",
   "metadata": {},
   "source": [
    "### Cancel Training"
   ]
  },
  {
   "cell_type": "code",
   "execution_count": 29,
   "metadata": {},
   "outputs": [],
   "source": [
    "# from azureml.core import Run\n",
    "# Run(exp, run_id='mxk_1552252494771_12').cancel()\n",
    "# run.cancel()"
   ]
  }
 ],
 "metadata": {
  "accelerator": "GPU",
  "colab": {
   "collapsed_sections": [
    "UMA1_eZKxb0_",
    "Y1g_gkgoNR8a"
   ],
   "name": "RetinaNet_self_train.ipynb",
   "provenance": [],
   "version": "0.3.2"
  },
  "kernelspec": {
   "display_name": "Python (tal)",
   "language": "python",
   "name": "tal"
  },
  "language_info": {
   "codemirror_mode": {
    "name": "ipython",
    "version": 3
   },
   "file_extension": ".py",
   "mimetype": "text/x-python",
   "name": "python",
   "nbconvert_exporter": "python",
   "pygments_lexer": "ipython3",
   "version": "3.6.2"
  }
 },
 "nbformat": 4,
 "nbformat_minor": 1
}
