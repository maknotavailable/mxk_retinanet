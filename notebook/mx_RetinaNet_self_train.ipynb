{
 "cells": [
  {
   "cell_type": "markdown",
   "metadata": {
    "colab_type": "text",
    "id": "UMA1_eZKxb0_"
   },
   "source": [
    "## 0. Setup"
   ]
  },
  {
   "cell_type": "code",
   "execution_count": 1,
   "metadata": {},
   "outputs": [],
   "source": [
    "import azureml.core\n",
    "from azureml.core import Workspace\n",
    "from azureml.core import Experiment\n",
    "from azureml.core.compute import AmlCompute\n",
    "from azureml.core.compute import ComputeTarget\n",
    "import os"
   ]
  },
  {
   "cell_type": "code",
   "execution_count": null,
   "metadata": {},
   "outputs": [],
   "source": [
    "# load workspace configuration from the config.json file in the current folder.\n",
    "ws = Workspace.from_config()\n",
    "print(ws.name, ws.location, ws.resource_group, ws.location, sep = '\\t')\n",
    "experiment_name = 'mxk-train'\n",
    "exp = Experiment(workspace=ws, name=experiment_name)\n",
    "\n",
    "# choose a name for your cluster\n",
    "compute_name = \"gpucluster\"\n",
    "compute_min_nodes = 0\n",
    "compute_max_nodes = 4\n",
    "vm_size = \"STANDARD_NC6\"\n",
    "\n",
    "compute_target = ws.compute_targets[compute_name]\n",
    "if compute_target and type(compute_target) is AmlCompute:\n",
    "    print('found compute target. just use it. ' + compute_name)\n",
    "\n",
    "ds = ws.get_default_datastore()\n",
    "print(ds.datastore_type, ds.account_name, ds.container_name)"
   ]
  },
  {
   "cell_type": "code",
   "execution_count": 1,
   "metadata": {},
   "outputs": [
    {
     "ename": "KeyboardInterrupt",
     "evalue": "",
     "output_type": "error",
     "traceback": [
      "\u001b[1;31m---------------------------------------------------------------------------\u001b[0m",
      "\u001b[1;31mKeyboardInterrupt\u001b[0m                         Traceback (most recent call last)",
      "\u001b[1;32m<ipython-input-1-cb80271bc96a>\u001b[0m in \u001b[0;36m<module>\u001b[1;34m\u001b[0m\n\u001b[1;32m----> 1\u001b[1;33m \u001b[1;32mfrom\u001b[0m \u001b[0mazureml\u001b[0m\u001b[1;33m.\u001b[0m\u001b[0mcore\u001b[0m\u001b[1;33m.\u001b[0m\u001b[0mrunconfig\u001b[0m \u001b[1;32mimport\u001b[0m \u001b[0mRunConfiguration\u001b[0m\u001b[1;33m\u001b[0m\u001b[0m\n\u001b[0m\u001b[0;32m      2\u001b[0m \u001b[1;32mfrom\u001b[0m \u001b[0mazureml\u001b[0m\u001b[1;33m.\u001b[0m\u001b[0mcore\u001b[0m\u001b[1;33m.\u001b[0m\u001b[0mconda_dependencies\u001b[0m \u001b[1;32mimport\u001b[0m \u001b[0mCondaDependencies\u001b[0m\u001b[1;33m\u001b[0m\u001b[0m\n\u001b[0;32m      3\u001b[0m \u001b[1;33m\u001b[0m\u001b[0m\n\u001b[0;32m      4\u001b[0m \u001b[1;31m# create a new RunConfig object\u001b[0m\u001b[1;33m\u001b[0m\u001b[1;33m\u001b[0m\u001b[0m\n\u001b[0;32m      5\u001b[0m \u001b[0mrun_config\u001b[0m \u001b[1;33m=\u001b[0m \u001b[0mRunConfiguration\u001b[0m\u001b[1;33m(\u001b[0m\u001b[0mframework\u001b[0m\u001b[1;33m=\u001b[0m\u001b[1;34m\"python\"\u001b[0m\u001b[1;33m)\u001b[0m\u001b[1;33m\u001b[0m\u001b[0m\n",
      "\u001b[1;32mC:\\ProgramData\\Anaconda3\\envs\\tal\\lib\\site-packages\\azureml\\core\\__init__.py\u001b[0m in \u001b[0;36m<module>\u001b[1;34m\u001b[0m\n\u001b[0;32m      8\u001b[0m \u001b[0mmodel\u001b[0m \u001b[0mruns\u001b[0m \u001b[1;32mand\u001b[0m \u001b[0mrun\u001b[0m \u001b[0moutput\u001b[0m\u001b[1;33m/\u001b[0m\u001b[0mlogging\u001b[0m\u001b[1;33m.\u001b[0m\u001b[1;33m\u001b[0m\u001b[0m\n\u001b[0;32m      9\u001b[0m \"\"\"\n\u001b[1;32m---> 10\u001b[1;33m \u001b[1;32mfrom\u001b[0m \u001b[0mazureml\u001b[0m\u001b[1;33m.\u001b[0m\u001b[0mcore\u001b[0m\u001b[1;33m.\u001b[0m\u001b[0mworkspace\u001b[0m \u001b[1;32mimport\u001b[0m \u001b[0mWorkspace\u001b[0m\u001b[1;33m\u001b[0m\u001b[0m\n\u001b[0m\u001b[0;32m     11\u001b[0m \u001b[1;32mfrom\u001b[0m \u001b[0mazureml\u001b[0m\u001b[1;33m.\u001b[0m\u001b[0mcore\u001b[0m\u001b[1;33m.\u001b[0m\u001b[0mexperiment\u001b[0m \u001b[1;32mimport\u001b[0m \u001b[0mExperiment\u001b[0m\u001b[1;33m\u001b[0m\u001b[0m\n\u001b[0;32m     12\u001b[0m \u001b[1;32mfrom\u001b[0m \u001b[0mazureml\u001b[0m\u001b[1;33m.\u001b[0m\u001b[0mcore\u001b[0m\u001b[1;33m.\u001b[0m\u001b[0mrunconfig\u001b[0m \u001b[1;32mimport\u001b[0m \u001b[0mRunConfiguration\u001b[0m\u001b[1;33m\u001b[0m\u001b[0m\n",
      "\u001b[1;32mC:\\ProgramData\\Anaconda3\\envs\\tal\\lib\\site-packages\\azureml\\core\\workspace.py\u001b[0m in \u001b[0;36m<module>\u001b[1;34m\u001b[0m\n\u001b[0;32m     19\u001b[0m \u001b[1;32mfrom\u001b[0m \u001b[0moperator\u001b[0m \u001b[1;32mimport\u001b[0m \u001b[0mattrgetter\u001b[0m\u001b[1;33m\u001b[0m\u001b[0m\n\u001b[0;32m     20\u001b[0m \u001b[1;33m\u001b[0m\u001b[0m\n\u001b[1;32m---> 21\u001b[1;33m \u001b[1;32mfrom\u001b[0m \u001b[0mazureml\u001b[0m\u001b[1;33m.\u001b[0m\u001b[0m_project\u001b[0m \u001b[1;32mimport\u001b[0m \u001b[0m_commands\u001b[0m\u001b[1;33m\u001b[0m\u001b[0m\n\u001b[0m\u001b[0;32m     22\u001b[0m \u001b[1;32mfrom\u001b[0m \u001b[0mazureml\u001b[0m\u001b[1;33m.\u001b[0m\u001b[0m_file_utils\u001b[0m\u001b[1;33m.\u001b[0m\u001b[0mfile_utils\u001b[0m \u001b[1;32mimport\u001b[0m \u001b[0mnormalize_path\u001b[0m\u001b[1;33m,\u001b[0m \u001b[0mnormalize_path_and_join\u001b[0m\u001b[1;33m,\u001b[0m\u001b[0;31m \u001b[0m\u001b[0;31m\\\u001b[0m\u001b[1;33m\u001b[0m\u001b[0m\n\u001b[0;32m     23\u001b[0m     \u001b[0mcheck_and_create_dir\u001b[0m\u001b[1;33m,\u001b[0m \u001b[0mtraverse_up_path_and_find_file\u001b[0m\u001b[1;33m,\u001b[0m \u001b[0mnormalize_file_ext\u001b[0m\u001b[1;33m\u001b[0m\u001b[0m\n",
      "\u001b[1;32mC:\\ProgramData\\Anaconda3\\envs\\tal\\lib\\site-packages\\azureml\\_project\\_commands.py\u001b[0m in \u001b[0;36m<module>\u001b[1;34m\u001b[0m\n\u001b[0;32m      6\u001b[0m \u001b[1;32mimport\u001b[0m \u001b[0mtime\u001b[0m\u001b[1;33m\u001b[0m\u001b[0m\n\u001b[0;32m      7\u001b[0m \u001b[1;33m\u001b[0m\u001b[0m\n\u001b[1;32m----> 8\u001b[1;33m \u001b[1;32mfrom\u001b[0m \u001b[0mazureml\u001b[0m\u001b[1;33m.\u001b[0m\u001b[0m_base_sdk_common\u001b[0m\u001b[1;33m.\u001b[0m\u001b[0mcommon\u001b[0m \u001b[1;32mimport\u001b[0m \u001b[0mcreate_role_assignment\u001b[0m\u001b[1;33m\u001b[0m\u001b[0m\n\u001b[0m\u001b[0;32m      9\u001b[0m \u001b[1;32mfrom\u001b[0m \u001b[0mazureml\u001b[0m\u001b[1;33m.\u001b[0m\u001b[0m_base_sdk_common\u001b[0m\u001b[1;33m.\u001b[0m\u001b[0mcommon\u001b[0m \u001b[1;32mimport\u001b[0m \u001b[0mresource_client_factory\u001b[0m\u001b[1;33m,\u001b[0m \u001b[0mgive_warning\u001b[0m\u001b[1;33m\u001b[0m\u001b[0m\n\u001b[0;32m     10\u001b[0m \u001b[1;32mfrom\u001b[0m \u001b[0mazureml\u001b[0m\u001b[1;33m.\u001b[0m\u001b[0m_base_sdk_common\u001b[0m\u001b[1;33m.\u001b[0m\u001b[0mcommon\u001b[0m \u001b[1;32mimport\u001b[0m \u001b[0mresource_error_handling\u001b[0m\u001b[1;33m\u001b[0m\u001b[0m\n",
      "\u001b[1;32mC:\\ProgramData\\Anaconda3\\envs\\tal\\lib\\site-packages\\azureml\\_base_sdk_common\\common.py\u001b[0m in \u001b[0;36m<module>\u001b[1;34m\u001b[0m\n\u001b[0;32m     15\u001b[0m \u001b[1;32mfrom\u001b[0m \u001b[0madal\u001b[0m\u001b[1;33m.\u001b[0m\u001b[0madal_error\u001b[0m \u001b[1;32mimport\u001b[0m \u001b[0mAdalError\u001b[0m\u001b[1;33m\u001b[0m\u001b[0m\n\u001b[0;32m     16\u001b[0m \u001b[1;33m\u001b[0m\u001b[0m\n\u001b[1;32m---> 17\u001b[1;33m \u001b[1;32mfrom\u001b[0m \u001b[0mazure\u001b[0m\u001b[1;33m.\u001b[0m\u001b[0mmgmt\u001b[0m\u001b[1;33m.\u001b[0m\u001b[0mauthorization\u001b[0m \u001b[1;32mimport\u001b[0m \u001b[0mAuthorizationManagementClient\u001b[0m\u001b[1;33m\u001b[0m\u001b[0m\n\u001b[0m\u001b[0;32m     18\u001b[0m \u001b[1;32mfrom\u001b[0m \u001b[0mazure\u001b[0m\u001b[1;33m.\u001b[0m\u001b[0mmgmt\u001b[0m\u001b[1;33m.\u001b[0m\u001b[0mauthorization\u001b[0m\u001b[1;33m.\u001b[0m\u001b[0mmodels\u001b[0m \u001b[1;32mimport\u001b[0m \u001b[0mRoleAssignmentCreateParameters\u001b[0m\u001b[1;33m\u001b[0m\u001b[0m\n\u001b[0;32m     19\u001b[0m \u001b[1;32mfrom\u001b[0m \u001b[0mazure\u001b[0m\u001b[1;33m.\u001b[0m\u001b[0mmgmt\u001b[0m\u001b[1;33m.\u001b[0m\u001b[0mresource\u001b[0m\u001b[1;33m.\u001b[0m\u001b[0mresources\u001b[0m \u001b[1;32mimport\u001b[0m \u001b[0mResourceManagementClient\u001b[0m\u001b[1;33m\u001b[0m\u001b[0m\n",
      "\u001b[1;32mC:\\ProgramData\\Anaconda3\\envs\\tal\\lib\\site-packages\\azure\\mgmt\\authorization\\__init__.py\u001b[0m in \u001b[0;36m<module>\u001b[1;34m\u001b[0m\n\u001b[0;32m     10\u001b[0m \u001b[1;31m# --------------------------------------------------------------------------\u001b[0m\u001b[1;33m\u001b[0m\u001b[1;33m\u001b[0m\u001b[0m\n\u001b[0;32m     11\u001b[0m \u001b[1;33m\u001b[0m\u001b[0m\n\u001b[1;32m---> 12\u001b[1;33m \u001b[1;32mfrom\u001b[0m \u001b[1;33m.\u001b[0m\u001b[0mauthorization_management_client\u001b[0m \u001b[1;32mimport\u001b[0m \u001b[0mAuthorizationManagementClient\u001b[0m\u001b[1;33m\u001b[0m\u001b[0m\n\u001b[0m\u001b[0;32m     13\u001b[0m \u001b[1;32mfrom\u001b[0m \u001b[1;33m.\u001b[0m\u001b[0mversion\u001b[0m \u001b[1;32mimport\u001b[0m \u001b[0mVERSION\u001b[0m\u001b[1;33m\u001b[0m\u001b[0m\n\u001b[0;32m     14\u001b[0m \u001b[1;33m\u001b[0m\u001b[0m\n",
      "\u001b[1;32mC:\\ProgramData\\Anaconda3\\envs\\tal\\lib\\site-packages\\azure\\mgmt\\authorization\\authorization_management_client.py\u001b[0m in \u001b[0;36m<module>\u001b[1;34m\u001b[0m\n\u001b[0;32m     10\u001b[0m \u001b[1;31m# --------------------------------------------------------------------------\u001b[0m\u001b[1;33m\u001b[0m\u001b[1;33m\u001b[0m\u001b[0m\n\u001b[0;32m     11\u001b[0m \u001b[1;33m\u001b[0m\u001b[0m\n\u001b[1;32m---> 12\u001b[1;33m \u001b[1;32mfrom\u001b[0m \u001b[0mmsrest\u001b[0m\u001b[1;33m.\u001b[0m\u001b[0mservice_client\u001b[0m \u001b[1;32mimport\u001b[0m \u001b[0mSDKClient\u001b[0m\u001b[1;33m\u001b[0m\u001b[0m\n\u001b[0m\u001b[0;32m     13\u001b[0m \u001b[1;32mfrom\u001b[0m \u001b[0mmsrest\u001b[0m \u001b[1;32mimport\u001b[0m \u001b[0mSerializer\u001b[0m\u001b[1;33m,\u001b[0m \u001b[0mDeserializer\u001b[0m\u001b[1;33m\u001b[0m\u001b[0m\n\u001b[0;32m     14\u001b[0m \u001b[1;32mfrom\u001b[0m \u001b[0mmsrestazure\u001b[0m \u001b[1;32mimport\u001b[0m \u001b[0mAzureConfiguration\u001b[0m\u001b[1;33m\u001b[0m\u001b[0m\n",
      "\u001b[1;32mC:\\ProgramData\\Anaconda3\\envs\\tal\\lib\\site-packages\\msrest\\__init__.py\u001b[0m in \u001b[0;36m<module>\u001b[1;34m\u001b[0m\n\u001b[0;32m     26\u001b[0m \u001b[1;33m\u001b[0m\u001b[0m\n\u001b[0;32m     27\u001b[0m \u001b[1;32mfrom\u001b[0m \u001b[1;33m.\u001b[0m\u001b[0mversion\u001b[0m \u001b[1;32mimport\u001b[0m \u001b[0mmsrest_version\u001b[0m\u001b[1;33m\u001b[0m\u001b[0m\n\u001b[1;32m---> 28\u001b[1;33m \u001b[1;32mfrom\u001b[0m \u001b[1;33m.\u001b[0m\u001b[0mconfiguration\u001b[0m \u001b[1;32mimport\u001b[0m \u001b[0mConfiguration\u001b[0m\u001b[1;33m\u001b[0m\u001b[0m\n\u001b[0m\u001b[0;32m     29\u001b[0m \u001b[1;32mfrom\u001b[0m \u001b[1;33m.\u001b[0m\u001b[0mservice_client\u001b[0m \u001b[1;32mimport\u001b[0m \u001b[0mServiceClient\u001b[0m\u001b[1;33m,\u001b[0m \u001b[0mSDKClient\u001b[0m\u001b[1;33m\u001b[0m\u001b[0m\n\u001b[0;32m     30\u001b[0m \u001b[1;32mfrom\u001b[0m \u001b[1;33m.\u001b[0m\u001b[0mserialization\u001b[0m \u001b[1;32mimport\u001b[0m \u001b[0mSerializer\u001b[0m\u001b[1;33m,\u001b[0m \u001b[0mDeserializer\u001b[0m\u001b[1;33m\u001b[0m\u001b[0m\n",
      "\u001b[1;32mC:\\ProgramData\\Anaconda3\\envs\\tal\\lib\\site-packages\\msrest\\configuration.py\u001b[0m in \u001b[0;36m<module>\u001b[1;34m\u001b[0m\n\u001b[0;32m     39\u001b[0m     \u001b[0mRequestHTTPSenderConfiguration\u001b[0m\u001b[1;33m\u001b[0m\u001b[0m\n\u001b[0;32m     40\u001b[0m )\n\u001b[1;32m---> 41\u001b[1;33m from .pipeline.universal import (\n\u001b[0m\u001b[0;32m     42\u001b[0m     \u001b[0mUserAgentPolicy\u001b[0m\u001b[1;33m,\u001b[0m\u001b[1;33m\u001b[0m\u001b[0m\n\u001b[0;32m     43\u001b[0m     \u001b[0mHTTPLogger\u001b[0m\u001b[1;33m,\u001b[0m\u001b[1;33m\u001b[0m\u001b[0m\n",
      "\u001b[1;32mC:\\ProgramData\\Anaconda3\\envs\\tal\\lib\\importlib\\_bootstrap.py\u001b[0m in \u001b[0;36m_find_and_load\u001b[1;34m(name, import_)\u001b[0m\n",
      "\u001b[1;32mC:\\ProgramData\\Anaconda3\\envs\\tal\\lib\\importlib\\_bootstrap.py\u001b[0m in \u001b[0;36m_find_and_load_unlocked\u001b[1;34m(name, import_)\u001b[0m\n",
      "\u001b[1;32mC:\\ProgramData\\Anaconda3\\envs\\tal\\lib\\importlib\\_bootstrap.py\u001b[0m in \u001b[0;36m_load_unlocked\u001b[1;34m(spec)\u001b[0m\n",
      "\u001b[1;32mC:\\ProgramData\\Anaconda3\\envs\\tal\\lib\\importlib\\_bootstrap_external.py\u001b[0m in \u001b[0;36mexec_module\u001b[1;34m(self, module)\u001b[0m\n",
      "\u001b[1;32mC:\\ProgramData\\Anaconda3\\envs\\tal\\lib\\importlib\\_bootstrap_external.py\u001b[0m in \u001b[0;36mget_code\u001b[1;34m(self, fullname)\u001b[0m\n",
      "\u001b[1;32mC:\\ProgramData\\Anaconda3\\envs\\tal\\lib\\importlib\\_bootstrap_external.py\u001b[0m in \u001b[0;36mget_data\u001b[1;34m(self, path)\u001b[0m\n",
      "\u001b[1;31mKeyboardInterrupt\u001b[0m: "
     ]
    }
   ],
   "source": [
    "from azureml.core.runconfig import RunConfiguration\n",
    "from azureml.core.conda_dependencies import CondaDependencies\n",
    "\n",
    "# create a new RunConfig object\n",
    "run_config = RunConfiguration(framework=\"python\")\n",
    "\n",
    "# Set compute target to AmlCompute target created in previous step\n",
    "run_config.target = compute_target.name\n",
    "\n",
    "# enable Docker \n",
    "run_config.environment.docker.enabled = True\n",
    "\n",
    "# specify CondaDependencies obj\n",
    "run_config.environment.python.conda_dependencies = CondaDependencies.create(conda_packages=['cython','keras-resent',\n",
    "                                                                                           'h5py','keras','numpy','opencv-python',\n",
    "                                                                                           'pillow','progressbar2'])\n",
    "#     - pip install 'progressbar2'\n",
    "#     - pip install 'pytest-flake8'\n",
    "#     - pip install 'pytest-xdist'"
   ]
  },
  {
   "cell_type": "markdown",
   "metadata": {
    "colab_type": "text",
    "id": "v7gwRHFSDwHI"
   },
   "source": [
    "## 2. Run the model"
   ]
  },
  {
   "cell_type": "code",
   "execution_count": 9,
   "metadata": {
    "colab": {
     "base_uri": "https://localhost:8080/",
     "height": 3176
    },
    "colab_type": "code",
    "id": "G_ZUCcOq1NDc",
    "outputId": "b57f300e-cbd0-47db-8310-737fe9ef19c1"
   },
   "outputs": [
    {
     "ename": "ValueError",
     "evalue": "attempted relative import beyond top-level package",
     "output_type": "error",
     "traceback": [
      "\u001b[1;31m---------------------------------------------------------------------------\u001b[0m",
      "\u001b[1;31mValueError\u001b[0m                                Traceback (most recent call last)",
      "\u001b[1;32m<ipython-input-9-be5b4b794116>\u001b[0m in \u001b[0;36m<module>\u001b[1;34m\u001b[0m\n\u001b[0;32m     18\u001b[0m \u001b[0marg_list\u001b[0m \u001b[1;33m=\u001b[0m \u001b[1;33m[\u001b[0m\u001b[1;34m'--epochs=30'\u001b[0m\u001b[1;33m,\u001b[0m \u001b[1;34m'--steps=1000'\u001b[0m\u001b[1;33m,\u001b[0m \u001b[1;34m'--fl-gamma=1.5'\u001b[0m\u001b[1;33m,\u001b[0m \u001b[1;34m'--fl-alpha=0.25'\u001b[0m\u001b[1;33m,\u001b[0m\u001b[1;34m'--snapshot'\u001b[0m\u001b[1;33m,\u001b[0m \u001b[1;34m'/content/gdrive/My Drive/BA/RetinaNet/final_split/resnet50/run_1/resnet50_csv_09_0.30.h5'\u001b[0m\u001b[1;33m,\u001b[0m  \u001b[1;34m'--backbone=resnet50'\u001b[0m\u001b[1;33m,\u001b[0m \u001b[1;34m'--snapshot-path=/content/gdrive/My Drive/BA/RetinaNet/final_split/resnet50/run_1/take_2'\u001b[0m\u001b[1;33m,\u001b[0m \u001b[1;34m'--random-transform'\u001b[0m\u001b[1;33m,\u001b[0m \u001b[1;34m'--tensorboard-dir=/content/gdrive/My Drive/BA/RetinaNet/final_split/resnet50/run_1/take_2'\u001b[0m\u001b[1;33m,\u001b[0m \u001b[1;34m'csv'\u001b[0m\u001b[1;33m,\u001b[0m \u001b[1;34m'/content/gdrive/My Drive/BA/Data/train_set_v2_retina.csv'\u001b[0m\u001b[1;33m,\u001b[0m \u001b[1;34m'/content/gdrive/My Drive/BA/Data/classes.csv'\u001b[0m\u001b[1;33m,\u001b[0m \u001b[1;34m'--val-annotations=/content/gdrive/My Drive/BA/Data/test_set_v2_retina.csv'\u001b[0m\u001b[1;33m]\u001b[0m\u001b[1;33m\u001b[0m\u001b[0m\n\u001b[0;32m     19\u001b[0m \u001b[1;33m\u001b[0m\u001b[0m\n\u001b[1;32m---> 20\u001b[1;33m \u001b[1;32mimport\u001b[0m \u001b[0mtrain\u001b[0m\u001b[1;33m\u001b[0m\u001b[0m\n\u001b[0m\u001b[0;32m     21\u001b[0m \u001b[0mtrain\u001b[0m\u001b[1;33m.\u001b[0m\u001b[0mmain\u001b[0m\u001b[1;33m(\u001b[0m\u001b[0marg_list\u001b[0m\u001b[1;33m)\u001b[0m\u001b[1;33m\u001b[0m\u001b[0m\n",
      "\u001b[1;32m~\\Desktop\\git\\mxk_retinanet\\code\\train.py\u001b[0m in \u001b[0;36m<module>\u001b[1;34m\u001b[0m\n\u001b[0;32m     25\u001b[0m \u001b[1;33m\u001b[0m\u001b[0m\n\u001b[0;32m     26\u001b[0m \u001b[1;31m# Change these to absolute imports if you copy this script outside the keras_retinanet package.\u001b[0m\u001b[1;33m\u001b[0m\u001b[1;33m\u001b[0m\u001b[0m\n\u001b[1;32m---> 27\u001b[1;33m \u001b[1;32mimport\u001b[0m \u001b[0mlayers\u001b[0m  \u001b[1;31m# noqa: F401\u001b[0m\u001b[1;33m\u001b[0m\u001b[0m\n\u001b[0m\u001b[0;32m     28\u001b[0m \u001b[1;32mimport\u001b[0m \u001b[0mlosses\u001b[0m\u001b[1;33m\u001b[0m\u001b[0m\n\u001b[0;32m     29\u001b[0m \u001b[1;32mimport\u001b[0m \u001b[0mmodels\u001b[0m\u001b[1;33m\u001b[0m\u001b[0m\n",
      "\u001b[1;32m~\\Desktop\\git\\mxk_retinanet\\code\\layers\\__init__.py\u001b[0m in \u001b[0;36m<module>\u001b[1;34m\u001b[0m\n\u001b[1;32m----> 1\u001b[1;33m \u001b[1;32mfrom\u001b[0m \u001b[1;33m.\u001b[0m\u001b[0m_misc\u001b[0m \u001b[1;32mimport\u001b[0m \u001b[0mRegressBoxes\u001b[0m\u001b[1;33m,\u001b[0m \u001b[0mUpsampleLike\u001b[0m\u001b[1;33m,\u001b[0m \u001b[0mAnchors\u001b[0m\u001b[1;33m,\u001b[0m \u001b[0mClipBoxes\u001b[0m  \u001b[1;31m# noqa: F401\u001b[0m\u001b[1;33m\u001b[0m\u001b[0m\n\u001b[0m\u001b[0;32m      2\u001b[0m \u001b[1;32mfrom\u001b[0m \u001b[1;33m.\u001b[0m\u001b[0mfilter_detections\u001b[0m \u001b[1;32mimport\u001b[0m \u001b[0mFilterDetections\u001b[0m  \u001b[1;31m# noqa: F401\u001b[0m\u001b[1;33m\u001b[0m\u001b[0m\n",
      "\u001b[1;32m~\\Desktop\\git\\mxk_retinanet\\code\\layers\\_misc.py\u001b[0m in \u001b[0;36m<module>\u001b[1;34m\u001b[0m\n\u001b[0;32m     16\u001b[0m \u001b[1;33m\u001b[0m\u001b[0m\n\u001b[0;32m     17\u001b[0m \u001b[1;32mimport\u001b[0m \u001b[0mkeras\u001b[0m\u001b[1;33m\u001b[0m\u001b[0m\n\u001b[1;32m---> 18\u001b[1;33m \u001b[1;32mfrom\u001b[0m \u001b[1;33m.\u001b[0m\u001b[1;33m.\u001b[0m \u001b[1;32mimport\u001b[0m \u001b[0mbackend\u001b[0m\u001b[1;33m\u001b[0m\u001b[0m\n\u001b[0m\u001b[0;32m     19\u001b[0m \u001b[1;32mfrom\u001b[0m \u001b[1;33m.\u001b[0m\u001b[1;33m.\u001b[0m\u001b[0mutils\u001b[0m \u001b[1;32mimport\u001b[0m \u001b[0manchors\u001b[0m \u001b[1;32mas\u001b[0m \u001b[0mutils_anchors\u001b[0m\u001b[1;33m\u001b[0m\u001b[0m\n\u001b[0;32m     20\u001b[0m \u001b[1;33m\u001b[0m\u001b[0m\n",
      "\u001b[1;31mValueError\u001b[0m: attempted relative import beyond top-level package"
     ]
    }
   ],
   "source": [
    "#arg_list = ['--epochs=1', '--steps=10', '--backbone=vgg19', '--snapshot', '/content/gdrive/My Drive/BA/RetinaNet/Model/vgg19/vgg19_csv_15.h5', '--snapshot-path=/content/gdrive/My Drive/BA/RetinaNet/Model/vgg19/second_run', '--tensorboard-dir=/content/gdrive/My Drive/BA/RetinaNet/Model/vgg19/second_run', 'csv', '/content/gdrive/My Drive/BA/Data/train_set_retina.csv', '/content/gdrive/My Drive/BA/Data/classes.csv']\n",
    "#arg_list = ['--epochs=1', '--steps=10', '--backbone=vgg19', '--snapshot-path=/content/gdrive/My Drive/BA/RetinaNet/Model/vgg19/tests', '--tensorboard-dir=/content/gdrive/My Drive/BA/RetinaNet/Model/vgg19/tests', 'csv', '/content/gdrive/My Drive/BA/Data/val_set_retina_v.csv', '/content/gdrive/My Drive/BA/Data/classes.csv']\n",
    "#arg_list = ['--epochs=30', '--steps=100', '--backbone=vgg19', '--no-snapshots', '--random-transform', '--tensorboard-dir=/content/gdrive/My Drive/BA/RetinaNet/Model/vgg19/tensorboard_outputs', 'csv', '/content/gdrive/My Drive/BA/Data/train_set_retina_v.csv', '/content/gdrive/My Drive/BA/Data/classes.csv', '--val-annotations=/content/gdrive/My Drive/BA/Data/val_set_retina_v.csv']\n",
    "#arg_list = ['--epochs=30', '--steps=1000', '--backbone=resnet50', '--snapshot-path=/content/gdrive/My Drive/BA/RetinaNet/Model/resnet50', '--random-transform', '--tensorboard-dir=/content/gdrive/My Drive/BA/RetinaNet/Model/resnet50/tensorboard_outputs', 'csv', '/content/gdrive/My Drive/BA/Data/train_set_retina_v.csv', '/content/gdrive/My Drive/BA/Data/classes.csv', '--val-annotations=/content/gdrive/My Drive/BA/Data/val_set_retina_v.csv']\n",
    "#arg_list = ['--epochs=30', '--steps=2000', '--backbone=resnet50', '--snapshot', '/content/gdrive/My Drive/BA/RetinaNet/Model/resnet50/run_2/resnet50_csv_30_0.42.h5', '--snapshot-path=/content/gdrive/My Drive/BA/RetinaNet/Model/resnet50/run_3', '--random-transform', '--tensorboard-dir=/content/gdrive/My Drive/BA/RetinaNet/Model/resnet50/run_2', 'csv', '/content/gdrive/My Drive/BA/Data/train_set_12_pw_retina.csv', '/content/gdrive/My Drive/BA/Data/classes.csv', '--val-annotations=/content/gdrive/My Drive/BA/Data/test_set_12_pw_retina.csv']\n",
    "#arg_list = ['--epochs=30', '--steps=2000', '--backbone=resnet101', '--snapshot', '/content/gdrive/My Drive/BA/RetinaNet/Model/resnet101/run_1/resnet101_csv_03_0.25.h5', '--snapshot-path=/content/gdrive/My Drive/BA/RetinaNet/Model/resnet101/run_1/2000_take2', '--random-transform', '--tensorboard-dir=/content/gdrive/My Drive/BA/RetinaNet/Model/resnet101/run_1/2000_take2', 'csv', '/content/gdrive/My Drive/BA/Data/train_set_12_pw_retina.csv', '/content/gdrive/My Drive/BA/Data/classes.csv', '--val-annotations=/content/gdrive/My Drive/BA/Data/test_set_12_pw_retina.csv']\n",
    "#arg_list = ['--epochs=2', '--steps=10', '--backbone=resnet50', '--snapshot', '/content/gdrive/My Drive/BA/RetinaNet/Model/resnet50/run_2/resnet50_csv_30_0.42.h5', '--snapshot-path=/content/gdrive/My Drive/BA/TEMP', '--tensorboard-dir=/content/gdrive/My Drive/BA/TEMP', 'csv', '/content/gdrive/My Drive/BA/Data/val_set_retina_v.csv', '/content/gdrive/My Drive/BA/Data/classes.csv', '--val-annotations=/content/gdrive/My Drive/BA/Data/test_set_retina_v.csv']\n",
    "\n",
    "#arg_list = ['--epochs=30', '--steps=1000', '--backbone=resnet50', '--snapshot-path=/content/gdrive/My Drive/BA/RetinaNet/Model/resnet50/run_3', '--random-transform', '--tensorboard-dir=/content/gdrive/My Drive/BA/RetinaNet/Model/resnet50/run_3', 'csv', '/content/gdrive/My Drive/BA/Data/train_set_12_pw_retina.csv', '/content/gdrive/My Drive/BA/Data/classes.csv', '--val-annotations=/content/gdrive/My Drive/BA/Data/test_set_12_pw_retina.csv']\n",
    "#arg_list = ['--epochs=1', '--steps=1000','--fl-gamma=2', '--fl-alpha=0.25', '--backbone=resnet50', '--snapshot-path=/content/gdrive/My Drive/BA/TEMP', '--tensorboard-dir=/content/gdrive/My Drive/BA/TEMP', 'csv', '/content/gdrive/My Drive/BA/Data/val_set_retina_v.csv', '/content/gdrive/My Drive/BA/Data/classes.csv', '--val-annotations=/content/gdrive/My Drive/BA/Data/test_set_retina_v.csv']\n",
    "#arg_list = ['--epochs=24', '--steps=1000', '--fl-gamma=1.5', '--fl-alpha=0.25', '--snapshot', '/content/gdrive/My Drive/BA/RetinaNet/Model/resnet50/run_4/resnet50_csv_06_0.29.h5', '--backbone=resnet50', '--snapshot-path=/content/gdrive/My Drive/BA/RetinaNet/Model/resnet50/run_4', '--random-transform', '--tensorboard-dir=/content/gdrive/My Drive/BA/RetinaNet/Model/resnet50/run_4', 'csv', '/content/gdrive/My Drive/BA/Data/train_set_12_pw_retina.csv', '/content/gdrive/My Drive/BA/Data/classes.csv', '--val-annotations=/content/gdrive/My Drive/BA/Data/test_set_12_pw_retina.csv']\n",
    "\n",
    "## FROM THIS ONE ON: standard threshold set to 0.15\n",
    "#arg_list = ['--epochs=30', '--steps=1000', '--fl-gamma=1.5', '--fl-alpha=0.25', '--snapshot', '/content/gdrive/My Drive/BA/RetinaNet/Model/resnet101/run_2/resnet101_csv_06_0.38.h5', '--backbone=resnet101', '--snapshot-path=/content/gdrive/My Drive/BA/RetinaNet/Model/resnet101/run_2', '--random-transform', '--tensorboard-dir=/content/gdrive/My Drive/BA/RetinaNet/Model/resnet101/run_2', 'csv', '/content/gdrive/My Drive/BA/Data/train_set_12_pw_retina.csv', '/content/gdrive/My Drive/BA/Data/classes.csv', '--val-annotations=/content/gdrive/My Drive/BA/Data/test_set_12_pw_retina.csv']\n",
    "#arg_list = ['--epochs=10', '--lr=1e-10', '--steps=1000', '--fl-gamma=5', '--fl-alpha=0.25', '--snapshot', '/content/gdrive/My Drive/BA/RetinaNet/Model/resnet152/run_1/resnet152_csv_06_0.47.h5', '--backbone=resnet152', '--snapshot-path=/content/gdrive/My Drive/BA/RetinaNet/Model/resnet152/run_1', '--random-transform', '--tensorboard-dir=/content/gdrive/My Drive/BA/RetinaNet/Model/resnet152/run_1', 'csv', '/content/gdrive/My Drive/BA/Data/train_set_12_pw_retina.csv', '/content/gdrive/My Drive/BA/Data/classes.csv', '--val-annotations=/content/gdrive/My Drive/BA/Data/test_set_12_pw_retina.csv']\n",
    "\n",
    "#arg_list = ['--epochs=30', '--steps=1000', '--fl-gamma=1.5', '--fl-alpha=0.25', '--backbone=resnet50', '--snapshot-path=/content/gdrive/My Drive/BA/RetinaNet/final_split/resnet50/run_1', '--random-transform', '--tensorboard-dir=/content/gdrive/My Drive/BA/RetinaNet/final_split/resnet50/run_1', 'csv', '/content/gdrive/My Drive/BA/Data/train_set_v2_retina.csv', '/content/gdrive/My Drive/BA/Data/classes.csv', '--val-annotations=/content/gdrive/My Drive/BA/Data/test_set_v2_retina.csv']\n",
    "arg_list = ['--epochs=30', '--steps=1000', '--fl-gamma=1.5', '--fl-alpha=0.25','--snapshot', '/content/gdrive/My Drive/BA/RetinaNet/final_split/resnet50/run_1/resnet50_csv_09_0.30.h5',  '--backbone=resnet50', '--snapshot-path=/content/gdrive/My Drive/BA/RetinaNet/final_split/resnet50/run_1/take_2', '--random-transform', '--tensorboard-dir=/content/gdrive/My Drive/BA/RetinaNet/final_split/resnet50/run_1/take_2', 'csv', '/content/gdrive/My Drive/BA/Data/train_set_v2_retina.csv', '/content/gdrive/My Drive/BA/Data/classes.csv', '--val-annotations=/content/gdrive/My Drive/BA/Data/test_set_v2_retina.csv']\n",
    "\n",
    "import train\n",
    "train.main(arg_list)"
   ]
  },
  {
   "cell_type": "code",
   "execution_count": 0,
   "metadata": {
    "colab": {},
    "colab_type": "code",
    "id": "9UlAyXZoiljh"
   },
   "outputs": [],
   "source": [
    "gamma_values = [0.75,    1,    2,    3,    5]\n",
    "alpha_values = [ 0.5, 0.25, 0.25, 0.25, 0.25]\n",
    "\n",
    "for i in range(len(gamma_values)):\n",
    "  \n",
    "  fl_gamma = '--fl-gamma=' + str(gamma_values[i])\n",
    "  fl_alpha = '--fl-alpha=' + str(alpha_values[i])\n",
    "  \n",
    "  print(\"\\n\")\n",
    "  print(fl_gamma, fl_alpha)\n",
    "  arg_list = ['--epochs=1', '--lr=1e-11', '--steps=1000', fl_gamma, fl_alpha, '--snapshot', '/content/gdrive/My Drive/BA/RetinaNet/Model/resnet152/run_1/resnet152_csv_06_0.47.h5', '--backbone=resnet152', '--snapshot-path=/content/gdrive/My Drive/BA/RetinaNet/Model/resnet152/run_1', '--random-transform', '--tensorboard-dir=/content/gdrive/My Drive/BA/RetinaNet/Model/resnet152/run_1', 'csv', '/content/gdrive/My Drive/BA/Data/train_set_12_pw_retina.csv', '/content/gdrive/My Drive/BA/Data/classes.csv', '--val-annotations=/content/gdrive/My Drive/BA/Data/test_set_12_pw_retina.csv']\n",
    "  \n",
    "  main(arg_list)"
   ]
  },
  {
   "cell_type": "markdown",
   "metadata": {
    "colab_type": "text",
    "id": "Y1g_gkgoNR8a"
   },
   "source": [
    "## 3. Parameter Search"
   ]
  },
  {
   "cell_type": "code",
   "execution_count": 0,
   "metadata": {
    "colab": {},
    "colab_type": "code",
    "id": "1EKr2FvVPMb0"
   },
   "outputs": [],
   "source": [
    "## Focal Loss grid search\n",
    "gamma_values = [   0, 0.5,    1,  1.5,  2.5,    3,  3.5,    5]\n",
    "alpha_values = [0.75, 0.5, 0.25, 0.25, 0.25, 0.25, 0.25, 0.25]\n",
    "base_path_s = '--snapshot-path=/content/gdrive/My Drive/BA/RetinaNet/Model/resnet50/FL_finetune/'\n",
    "base_path_t = '--tensorboard-dir=/content/gdrive/My Drive/BA/RetinaNet/Model/resnet50/FL_finetune/'\n",
    "\n",
    "\n",
    "for i in range(5, len(gamma_values)):\n",
    "  \n",
    "  fl_gamma = '--fl-gamma=' + str(gamma_values[i])\n",
    "  fl_alpha = '--fl-alpha=' + str(alpha_values[i])\n",
    "  snap_path = base_path_s + 'g' + str(gamma_values[i]) + '_a' + str(alpha_values[i])\n",
    "  tens_path = base_path_t + 'g' + str(gamma_values[i]) + '_a' + str(alpha_values[i])\n",
    "  \n",
    "  print(\"\\n\")\n",
    "  print(fl_gamma, fl_alpha)\n",
    "  arg_list = ['--epochs=4', '--steps=1000', '--backbone=resnet50', fl_gamma, fl_alpha, snap_path, '--random-transform', tens_path, 'csv', '/content/gdrive/My Drive/BA/Data/train_set_12_pw_retina.csv', '/content/gdrive/My Drive/BA/Data/classes.csv', '--val-annotations=/content/gdrive/My Drive/BA/Data/test_set_12_pw_retina.csv']\n",
    "  \n",
    "  main(arg_list)"
   ]
  },
  {
   "cell_type": "code",
   "execution_count": 0,
   "metadata": {
    "colab": {
     "base_uri": "https://localhost:8080/",
     "height": 51
    },
    "colab_type": "code",
    "id": "tHDrZo0UY1Fi",
    "outputId": "fc513671-b118-4c8f-dc6e-c6ff2e539722"
   },
   "outputs": [
    {
     "name": "stdout",
     "output_type": "stream",
     "text": [
      "2\n",
      "3\n"
     ]
    }
   ],
   "source": [
    "for i in range (2, 4):\n",
    "  print(i)"
   ]
  },
  {
   "cell_type": "code",
   "execution_count": 0,
   "metadata": {
    "colab": {
     "base_uri": "https://localhost:8080/",
     "height": 496
    },
    "colab_type": "code",
    "id": "2XCCSkl_oyz-",
    "outputId": "ada81dab-55a2-4617-cf62-eb7d1b535774"
   },
   "outputs": [
    {
     "name": "stdout",
     "output_type": "stream",
     "text": [
      "\n",
      "\n",
      "--batch-size=3 --steps=600\n",
      "Downloading data from https://github.com/fizyr/keras-models/releases/download/v0.0.1/ResNet-50-model.keras.h5\n",
      "102948864/102945312 [==============================] - 7s 0us/step\n",
      "Creating model, this may take a second...\n",
      "WARNING:tensorflow:From /usr/local/lib/python3.6/dist-packages/tensorflow/python/framework/op_def_library.py:263: colocate_with (from tensorflow.python.framework.ops) is deprecated and will be removed in a future version.\n",
      "Instructions for updating:\n",
      "Colocations handled automatically by placer.\n",
      "Epoch 1/15\n",
      "600/600 [==============================] - 1247s 2s/step - loss: 3.4069 - regression_loss: 2.5107 - classification_loss: 0.8962\n"
     ]
    },
    {
     "name": "stderr",
     "output_type": "stream",
     "text": [
      "Running network: 100% (404 of 404) |#####| Elapsed Time: 0:02:35 Time:  0:02:35\n",
      "Parsing annotations: 100% (404 of 404) |#| Elapsed Time: 0:00:00 Time:  0:00:00\n"
     ]
    },
    {
     "name": "stdout",
     "output_type": "stream",
     "text": [
      "1025 instances of class specularity with average precision: 0.1161\n",
      "152 instances of class saturation with average precision: 0.0336\n",
      "684 instances of class artifact with average precision: 0.1711\n",
      "124 instances of class blur with average precision: 0.0523\n",
      "178 instances of class contrast with average precision: 0.0926\n",
      "263 instances of class bubbles with average precision: 0.0314\n",
      "89 instances of class instrument with average precision: 0.0040\n",
      "mAP: 0.0716\n",
      "mIoU: 0.0905\n",
      "EAD Score: 0.0754\n",
      "\n",
      "Epoch 00001: saving model to /content/gdrive/My Drive/BA/RetinaNet/final_split/resnet50/BS_finetune/run_3/bs3_st600/resnet50_csv_01_0.08.h5\n",
      "Epoch 2/15\n",
      "389/600 [==================>...........] - ETA: 6:08 - loss: 2.8944 - regression_loss: 2.1975 - classification_loss: 0.6969"
     ]
    }
   ],
   "source": [
    "## Batch size search\n",
    "batch_values = [   1,   2,   3,   4,   6,   8]\n",
    "steps_values = [1800, 900, 600, 450, 300, 225]\n",
    "base_path_s = '--snapshot-path=/content/gdrive/My Drive/BA/RetinaNet/final_split/resnet50/BS_finetune/run_3/'\n",
    "base_path_t = '--tensorboard-dir=/content/gdrive/My Drive/BA/RetinaNet/final_split/resnet50/BS_finetune/run_3/'\n",
    "\n",
    "for i in range(2, len(batch_values)):\n",
    "  \n",
    "  batch_size = '--batch-size=' + str(batch_values[i])\n",
    "  steps = '--steps=' + str(steps_values[i])\n",
    "  snap_path = base_path_s + 'bs' + str(batch_values[i]) + '_st' + str(steps_values[i])\n",
    "  tens_path = base_path_t + 'bs' + str(batch_values[i]) + '_st' + str(steps_values[i])\n",
    "  \n",
    "  print(\"\\n\")\n",
    "  print(batch_size, steps)\n",
    "  arg_list = ['--epochs=15', steps, batch_size, '--backbone=resnet50', '--fl-gamma=1.5', '--fl-alpha=0.25', snap_path, '--random-transform', tens_path, 'csv', '/content/gdrive/My Drive/BA/Data/train_set_v2_retina.csv', '/content/gdrive/My Drive/BA/Data/classes.csv', '--val-annotations=/content/gdrive/My Drive/BA/Data/test_set_v2_retina.csv']\n",
    "  \n",
    "  main(arg_list)"
   ]
  },
  {
   "cell_type": "code",
   "execution_count": 0,
   "metadata": {
    "colab": {},
    "colab_type": "code",
    "id": "mtpUbhYJakWW"
   },
   "outputs": [],
   "source": [
    "## Focal Loss grid search\n",
    "gamma_values = [0.5,    1,  1.5,  3.5,    5]\n",
    "alpha_values = [0.5, 0.25, 0.25, 0.25, 0.25]\n",
    "base_path_s = '--snapshot-path=/content/gdrive/My Drive/BA/RetinaNet/Model/resnet50/FL_finetune/'\n",
    "base_path_t = '--tensorboard-dir=/content/gdrive/My Drive/BA/RetinaNet/Model/resnet50/FL_finetune/'\n",
    "\n",
    "\n",
    "for i in range(len(gamma_values)):\n",
    "  \n",
    "  fl_gamma = '--fl-gamma=' + str(gamma_values[i])\n",
    "  fl_alpha = '--fl-alpha=' + str(alpha_values[i])\n",
    "  snap_path = base_path_s + 'g' + str(gamma_values[i]) + '_a' + str(alpha_values[i])\n",
    "  tens_path = base_path_t + 'g' + str(gamma_values[i]) + '_a' + str(alpha_values[i])\n",
    "  \n",
    "  print(\"\\n\")\n",
    "  print(fl_gamma, fl_alpha)\n",
    "  arg_list = ['--epochs=4', '--steps=1000', '--backbone=resnet50', fl_gamma, fl_alpha, snap_path, '--random-transform', tens_path, 'csv', '/content/gdrive/My Drive/BA/Data/train_set_12_pw_retina.csv', '/content/gdrive/My Drive/BA/Data/classes.csv', '--val-annotations=/content/gdrive/My Drive/BA/Data/test_set_12_pw_retina.csv']\n",
    "  \n",
    "  main(arg_list)"
   ]
  }
 ],
 "metadata": {
  "accelerator": "GPU",
  "colab": {
   "collapsed_sections": [
    "UMA1_eZKxb0_",
    "Y1g_gkgoNR8a"
   ],
   "name": "RetinaNet_self_train.ipynb",
   "provenance": [],
   "version": "0.3.2"
  },
  "kernelspec": {
   "display_name": "Python (tal)",
   "language": "python",
   "name": "tal"
  },
  "language_info": {
   "codemirror_mode": {
    "name": "ipython",
    "version": 3
   },
   "file_extension": ".py",
   "mimetype": "text/x-python",
   "name": "python",
   "nbconvert_exporter": "python",
   "pygments_lexer": "ipython3",
   "version": "3.6.2"
  }
 },
 "nbformat": 4,
 "nbformat_minor": 1
}
